{
 "cells": [
  {
   "cell_type": "code",
   "execution_count": 3,
   "metadata": {
    "collapsed": false
   },
   "outputs": [
    {
     "ename": "ImportError",
     "evalue": "No module named pyb",
     "output_type": "error",
     "traceback": [
      "\u001b[0;31m---------------------------------------------------------------------------\u001b[0m",
      "\u001b[0;31mImportError\u001b[0m                               Traceback (most recent call last)",
      "\u001b[0;32m<ipython-input-3-e697391fdd51>\u001b[0m in \u001b[0;36m<module>\u001b[0;34m()\u001b[0m\n\u001b[1;32m      3\u001b[0m \u001b[0;34m\u001b[0m\u001b[0m\n\u001b[1;32m      4\u001b[0m \u001b[0;34m\u001b[0m\u001b[0m\n\u001b[0;32m----> 5\u001b[0;31m \u001b[0;32mfrom\u001b[0m \u001b[0mpyb\u001b[0m \u001b[0;32mimport\u001b[0m \u001b[0mUART\u001b[0m\u001b[0;34m\u001b[0m\u001b[0m\n\u001b[0m\u001b[1;32m      6\u001b[0m \u001b[0;32mfrom\u001b[0m \u001b[0mmicropyGPS\u001b[0m \u001b[0;32mimport\u001b[0m \u001b[0mMicropyGPS\u001b[0m\u001b[0;34m\u001b[0m\u001b[0m\n\u001b[1;32m      7\u001b[0m \u001b[0;34m\u001b[0m\u001b[0m\n",
      "\u001b[0;31mImportError\u001b[0m: No module named pyb"
     ]
    }
   ],
   "source": [
    "# main.py -- put your code here!\n",
    "\n",
    "\n",
    "\n",
    "from pyb import UART\n",
    "from micropyGPS import MicropyGPS\n",
    "\n",
    "\n",
    "\n",
    "\n",
    "\n",
    "# Setting up UART\n",
    "# This example uses UART 6 with RX on pin Y2\n",
    "# Baudrate is 9600bps, with the standard 8 bits, 1 stop bit, no parity\n",
    "\n",
    "\n",
    "uart = UART(1, 9600)\n",
    "\n",
    "\n",
    "# Initiate\n",
    "\n",
    "my_gps = MicropyGPS()\n",
    "\n",
    "\n",
    "# Reads 300 sentences and reports how many were parsed and if any failed the CRC check\n",
    "sentence_count = 0\n",
    "while True:\n",
    "    if uart.any():\n",
    "        stat = my_gps.update(chr(uart.readchar()))\n",
    "        if stat:\n",
    "            print(stat)\n",
    "            print('Longitude:', my_gps.longitude)\n",
    "            print('Latitude:', my_gps.latitude)\n",
    "            #print('Satellites Used', my_gps.satellites_used)\n",
    "            #print('Fix Type Code:', my_gps.fix_type)\n",
    "            #print('Horizontal Dilution of Precision:', my_gps.hdop)\n",
    "            #print('Vertical Dilution of Precision:', my_gps.vdop)\n",
    "            #print('Position Dilution of Precision:', my_gps.pdop)\n",
    "            print('Latitude:', my_gps.latitude_string())\n",
    "            print('Longitude:', my_gps.longitude_string())\n",
    "            print('Speed:', my_gps.speed_string('kph'), 'or', my_gps.speed_string('mph'), 'or', my_gps.speed_string('knot'))\n",
    "            print('Date (Short M/D/Y Format):', my_gps.date_string('s_mdy'))\n",
    "            print('# of Satellites in View:', my_gps.satellites_in_view)\n",
    "            data_valid = my_gps.satellite_data_updated()\n",
    "            print('Is Satellite Data Valid?:', data_valid)\n",
    "            if data_valid:\n",
    "                print('Satellite Data:', my_gps.satellite_data)\n",
    "                print('Satellites Visible:', my_gps.satellites_visible())\n",
    "\n",
    "            stat = None\n",
    "            sentence_count += 1\n",
    "\n",
    "\n",
    "\n",
    "\n",
    "    if sentence_count == 200:\n",
    "        break;\n",
    "\n",
    "\n",
    "\n",
    "\n",
    "\n",
    "\n",
    "\n",
    "\n",
    "print('Sentences Found:', my_gps.clean_sentences)\n",
    "print('Sentences Parsed:', my_gps.parsed_sentences)\n",
    "print('CRC_Fails:', my_gps.crc_fails)\n",
    "\n",
    "\n",
    "\n",
    "\n",
    "\n"
   ]
  },
  {
   "cell_type": "code",
   "execution_count": null,
   "metadata": {
    "collapsed": true
   },
   "outputs": [],
   "source": []
  }
 ],
 "metadata": {
  "kernelspec": {
   "display_name": "Python 2",
   "language": "python",
   "name": "python2"
  },
  "language_info": {
   "codemirror_mode": {
    "name": "ipython",
    "version": 2
   },
   "file_extension": ".py",
   "mimetype": "text/x-python",
   "name": "python",
   "nbconvert_exporter": "python",
   "pygments_lexer": "ipython2",
   "version": "2.7.10"
  }
 },
 "nbformat": 4,
 "nbformat_minor": 0
}
